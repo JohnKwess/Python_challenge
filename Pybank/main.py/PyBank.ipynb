{
 "cells": [
  {
   "cell_type": "code",
   "execution_count": 4,
   "metadata": {},
   "outputs": [
    {
     "data": {
      "text/html": [
       "<div>\n",
       "<style scoped>\n",
       "    .dataframe tbody tr th:only-of-type {\n",
       "        vertical-align: middle;\n",
       "    }\n",
       "\n",
       "    .dataframe tbody tr th {\n",
       "        vertical-align: top;\n",
       "    }\n",
       "\n",
       "    .dataframe thead th {\n",
       "        text-align: right;\n",
       "    }\n",
       "</style>\n",
       "<table border=\"1\" class=\"dataframe\">\n",
       "  <thead>\n",
       "    <tr style=\"text-align: right;\">\n",
       "      <th></th>\n",
       "      <th>Date</th>\n",
       "      <th>Profit/Losses</th>\n",
       "    </tr>\n",
       "  </thead>\n",
       "  <tbody>\n",
       "    <tr>\n",
       "      <th>0</th>\n",
       "      <td>Jan-2010</td>\n",
       "      <td>867884</td>\n",
       "    </tr>\n",
       "    <tr>\n",
       "      <th>1</th>\n",
       "      <td>Feb-2010</td>\n",
       "      <td>984655</td>\n",
       "    </tr>\n",
       "    <tr>\n",
       "      <th>2</th>\n",
       "      <td>Mar-2010</td>\n",
       "      <td>322013</td>\n",
       "    </tr>\n",
       "    <tr>\n",
       "      <th>3</th>\n",
       "      <td>Apr-2010</td>\n",
       "      <td>-69417</td>\n",
       "    </tr>\n",
       "    <tr>\n",
       "      <th>4</th>\n",
       "      <td>May-2010</td>\n",
       "      <td>310503</td>\n",
       "    </tr>\n",
       "  </tbody>\n",
       "</table>\n",
       "</div>"
      ],
      "text/plain": [
       "       Date  Profit/Losses\n",
       "0  Jan-2010         867884\n",
       "1  Feb-2010         984655\n",
       "2  Mar-2010         322013\n",
       "3  Apr-2010         -69417\n",
       "4  May-2010         310503"
      ]
     },
     "execution_count": 4,
     "metadata": {},
     "output_type": "execute_result"
    }
   ],
   "source": [
    "import pandas as pd\n",
    "\n",
    "Data_csv_path = \"budget_data.csv\"\n",
    "\n",
    "\n",
    "# Import the data into a Pandas DataFrame\n",
    "Data = pd.read_csv(Data_csv_path)\n",
    "Data.head()"
   ]
  },
  {
   "cell_type": "code",
   "execution_count": 5,
   "metadata": {},
   "outputs": [
    {
     "name": "stdout",
     "output_type": "stream",
     "text": [
      "-------------------------\n",
      "Total_months : 86\n",
      "Net_Profit: $38382578\n"
     ]
    }
   ],
   "source": [
    "Total_months = Data[\"Date\"].count()\n",
    "Net_Profit = Data[\"Profit/Losses\"].sum()\n",
    "\n",
    "print(\"-------------------------\")\n",
    "print(\"Total_months : \"+str(Total_months))\n",
    "print(\"Net_Profit:\" ,\"$\" + str(Net_Profit))"
   ]
  },
  {
   "cell_type": "code",
   "execution_count": 10,
   "metadata": {},
   "outputs": [
    {
     "name": "stdout",
     "output_type": "stream",
     "text": [
      "Average Revenue Change: $-2315.1176470588234\n",
      "Greatest Increase in Revenue: Jan-2012 ($1926159)\n",
      "Greatest Decrease in Revenue: Aug-2013 ($-2196167)\n"
     ]
    }
   ],
   "source": [
    "\n",
    "dictt = {}\n",
    "count = 0\n",
    "\n",
    "date = []\n",
    "Date = Data[\"Date\"]\n",
    "revenue = Data[\"Profit/Losses\"]\n",
    "for i in range(0 , len(revenue)-1):\n",
    "    revchange.append(revenue[i+1] - revenue[i])\n",
    "# get number of change\n",
    "for j in revchange:\n",
    "    count = count + 1\n",
    "# get total change\n",
    "total_change = sum(revchange)\n",
    "# avg change\n",
    "avgRev_change = total_change / count\n",
    "print(\"Average Revenue Change: $\" + str(avgRev_change))\n",
    "for a in range(0, len(revchange) -1):\n",
    "    date.append(Date[a])\n",
    "\n",
    "for b in range(0, len(date) -1):\n",
    "    dictt[date[b]] = revchange[b]\n",
    "    \n",
    "max_increase = max(dictt.values())\n",
    "min_increase = min(dictt.values())  ## get the max and min value \n",
    "# get month according to the value\n",
    "MaxMin_date = []\n",
    "for key, value in dictt.items():\n",
    "    if value == max_incr:\n",
    "        MaxMin_date.append(key)\n",
    "    if value == min_incr:\n",
    "        MaxMin_date.append(key)\n",
    "print(\"Greatest Increase in Revenue: \" + str(MaxMin_date[0]) + \" ($\" + str(max_increase) + \")\")\n",
    "print(\"Greatest Decrease in Revenue: \" + str(MaxMin_date[1]) + \" ($\" + str(min_increase) + \")\")"
   ]
  },
  {
   "cell_type": "code",
   "execution_count": null,
   "metadata": {},
   "outputs": [],
   "source": []
  }
 ],
 "metadata": {
  "kernelspec": {
   "display_name": "Python 3",
   "language": "python",
   "name": "python3"
  },
  "language_info": {
   "codemirror_mode": {
    "name": "ipython",
    "version": 3
   },
   "file_extension": ".py",
   "mimetype": "text/x-python",
   "name": "python",
   "nbconvert_exporter": "python",
   "pygments_lexer": "ipython3",
   "version": "3.7.3"
  }
 },
 "nbformat": 4,
 "nbformat_minor": 4
}
