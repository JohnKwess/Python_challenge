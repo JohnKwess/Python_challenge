{
 "cells": [
  {
   "cell_type": "code",
   "execution_count": 3,
   "metadata": {},
   "outputs": [
    {
     "name": "stdout",
     "output_type": "stream",
     "text": [
      "Paragraph Analysis\n",
      "-----------------\n",
      "Approximate Word Count: 130\n",
      "Approximate Sentence Count:1\n",
      "Average Letter Count:6.392307692307693\n",
      "Average Sentence Length:130.0\n"
     ]
    }
   ],
   "source": [
    "import re\n",
    "import os\n",
    "numlines = 0\n",
    "numwords = 0\n",
    "numchars = 0\n",
    "avg_numwords = []\n",
    "numletters_list = []\n",
    "lineslist =[]\n",
    "\n",
    "filepath = os.path.join( 'paragraph_1.txt')\n",
    "with open(\"paragraph_1.txt\", \"r\") as text_file:\n",
    "    \n",
    "     #Count of sentences\n",
    "    lineslist = re.split(\"[?<=.!?] +\", str(text_file))\n",
    "    numlines = len(lineslist)\n",
    "    \n",
    "    for line in text_file:\n",
    "        #Count of words\n",
    "        wordslist = line.split()\n",
    "        numwords += len(wordslist)\n",
    "\n",
    "        #Count of letters per word\n",
    "        for words in wordslist:\n",
    "            numletters = len(words)\n",
    "            numletters_list.append(numletters)\n",
    "        avg_numwords = sum(numletters_list)/(numwords)\n",
    "\n",
    "        #Average Sentence length        \n",
    "        avg_line_len = (numwords)/(numlines)\n",
    "\n",
    "#Printing all the values\n",
    "print(\"Paragraph Analysis\")\n",
    "print(\"-----------------\")\n",
    "print(\"Approximate Word Count: \" + str(numwords))\n",
    "print(\"Approximate Sentence Count:\" + str(numlines))\n",
    "print(\"Average Letter Count:\" + str(avg_numwords))\n",
    "print(\"Average Sentence Length:\" + str(avg_line_len))"
   ]
  },
  {
   "cell_type": "code",
   "execution_count": null,
   "metadata": {},
   "outputs": [],
   "source": []
  }
 ],
 "metadata": {
  "kernelspec": {
   "display_name": "Python 3",
   "language": "python",
   "name": "python3"
  },
  "language_info": {
   "codemirror_mode": {
    "name": "ipython",
    "version": 3
   },
   "file_extension": ".py",
   "mimetype": "text/x-python",
   "name": "python",
   "nbconvert_exporter": "python",
   "pygments_lexer": "ipython3",
   "version": "3.7.3"
  }
 },
 "nbformat": 4,
 "nbformat_minor": 4
}
