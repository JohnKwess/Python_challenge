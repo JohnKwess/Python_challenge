{
 "cells": [
  {
   "cell_type": "code",
   "execution_count": 17,
   "metadata": {},
   "outputs": [],
   "source": []
  },
  {
   "cell_type": "code",
   "execution_count": 33,
   "metadata": {},
   "outputs": [
    {
     "name": "stdout",
     "output_type": "stream",
     "text": [
      "Election Results\n",
      "-----------------------\n",
      "Total Votes: 3521001\n",
      "-----------------------\n",
      "Khan: 63.0% (2218231)\n",
      "Correy: 20.0% (704200)\n",
      "Li: 14.0% (492940)\n",
      "O'Tooley: 3.0% (105630)\n",
      "-----------------------\n",
      "Winner: Khan\n",
      "-----------------------\n"
     ]
    }
   ],
   "source": [
    "import csv\n",
    "from collections import Counter\n",
    "import pandas as pd\n",
    "import os\n",
    "\n",
    "filename = os.path.join( 'election_data.csv')\n",
    "\n",
    "\n",
    "with open(filename, 'r', newline='', encoding='latin-1') as csvfile:\n",
    "    csvreader = csv.reader(csvfile, delimiter=\",\")\n",
    "    header = next(csvreader) \n",
    "    csvreader\n",
    "\n",
    "    votesCount = Counter() \n",
    "    candList = [] \n",
    "    percentage = [] \n",
    "    answer = [] \n",
    "\n",
    "    for row in csvreader: \n",
    "        candList.append(row[2])\n",
    "\n",
    "    totalVotes = len(candList)\n",
    "\n",
    "    for name in candList: \n",
    "        votesCount[name] += 1\n",
    "\n",
    "    winner = max(zip(votesCount.values(), votesCount.keys())) \n",
    "    names = tuple(votesCount.keys())\n",
    "    votes = tuple(votesCount.values())\n",
    "\n",
    "    for x in votes:\n",
    "        percentage.append((int(x)/totalVotes)*100) \n",
    "    \n",
    "    answer.append('Election Results')\n",
    "    answer.append('-----------------------')\n",
    "    answer.append('Total Votes: ' + str(totalVotes))\n",
    "    answer.append('-----------------------')\n",
    "    for x in range(len(names)):\n",
    "        answer.append(names[x] + ': ' + str(round(percentage[x],1)) + '% ' + '(' + str(votes[x]) + ')')\n",
    "    answer.append('-----------------------')\n",
    "    answer.append('Winner: ' + winner[1])\n",
    "    answer.append('-----------------------')\n",
    "\n",
    "    print(\"\\n\".join((answer)))\n",
    "\n"
   ]
  },
  {
   "cell_type": "code",
   "execution_count": null,
   "metadata": {},
   "outputs": [],
   "source": []
  }
 ],
 "metadata": {
  "kernelspec": {
   "display_name": "Python 3",
   "language": "python",
   "name": "python3"
  },
  "language_info": {
   "codemirror_mode": {
    "name": "ipython",
    "version": 3
   },
   "file_extension": ".py",
   "mimetype": "text/x-python",
   "name": "python",
   "nbconvert_exporter": "python",
   "pygments_lexer": "ipython3",
   "version": "3.7.3"
  }
 },
 "nbformat": 4,
 "nbformat_minor": 4
}
